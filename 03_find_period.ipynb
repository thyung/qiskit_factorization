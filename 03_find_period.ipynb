{
 "cells": [
  {
   "attachments": {},
   "cell_type": "markdown",
   "metadata": {},
   "source": [
    "This page refers to QCS on the usage of symbols"
   ]
  },
  {
   "attachments": {},
   "cell_type": "markdown",
   "metadata": {},
   "source": [
    "Define unitary operator $U_{f_N}$ s.t.\n",
    "\n",
    "$$\n",
    "U_{f_N} |x\\rangle_n |0\\rangle_{n_0} = |x\\rangle_n | f_N(x) \\rangle_{n_0}\n",
    "$$"
   ]
  },
  {
   "attachments": {},
   "cell_type": "markdown",
   "metadata": {},
   "source": [
    "show the Shor's algorithm quantum circuit here\n",
    "n + n_0 qubits"
   ]
  },
  {
   "attachments": {},
   "cell_type": "markdown",
   "metadata": {},
   "source": [
    "$$\n",
    "\\begin{align*}\n",
    "& U_{f_N} H^\\otimes |x\\rangle_n |0\\rangle_{n_0} \\\\\n",
    "&= U_{f_N} \\frac{1}{2^{n/2}} \\sum_{x=0}^{2^n-1} |x\\rangle_n |0\\rangle_{n_0} \\\\\n",
    "&= \\frac{1}{2^{n/2}} \\sum_{x=0}^{2^n-1} |x\\rangle_n | f_N(x) \\rangle_{n_0}\n",
    "\\end{align*}\n",
    "$$"
   ]
  },
  {
   "attachments": {},
   "cell_type": "markdown",
   "metadata": {},
   "source": [
    "If the measurement results $f_0$, the state becomes\n",
    "\n",
    "$$\n",
    "|\\Psi \\rangle_n | f_0 \\rangle_{n_0} = \\frac{1}{\\sqrt{m}} \\sum_{k=0}^{m-1} | x_0 + kr \\rangle_n | f_0 \\rangle_{n_0}\n",
    "$$\n",
    "\n",
    "where $x_0$ is the smallest number s.t. $f_N(x_0) = f_0$ and $0 <= x_0 < r$ and $m$ is the smallest number s.t. $x_0 + mr >= 2^n$.  That means all $| x_0 + kr \\rangle_n , k \\in [0, m-1]$ are between $|0\\rangle_n$ and $| 2^n-1 \\rangle_n$."
   ]
  },
  {
   "attachments": {},
   "cell_type": "markdown",
   "metadata": {},
   "source": [
    "Apply QFT to $|\\Psi \\rangle_n$,\n",
    "\n",
    "$$\n",
    "\\begin{align*}\n",
    "& U_{QFT} |\\Psi \\rangle_n \\\\\n",
    "&= U_{QFT} \\frac{1}{\\sqrt{m}} \\sum_{k=0}^{m-1} | x_0 + kr \\rangle_n \\\\\n",
    "&= \\frac{1}{\\sqrt{m}} \\sum_{k=0}^{m-1} \\frac{1}{2^{n/2}} \\sum_{y=0}^{2^n-1} e^{ \\frac{2\\pi i (x_0+kr)y}{2^n} } |y\\rangle_n \\\\\n",
    "\\end{align*}\n",
    "$$"
   ]
  },
  {
   "attachments": {},
   "cell_type": "markdown",
   "metadata": {},
   "source": [
    "Rearrange summation and $x_0$ term,\n",
    "\n",
    "$$\n",
    "\\begin{align*}\n",
    "&= \\sum_{y=0}^{2^n-1} e^{ \\frac{2\\pi i x_0 y}{2^n} } \\frac{1}{\\sqrt{2^n m}} \\sum_{k=0}^{m-1} e^{ \\frac{2\\pi i kry}{2^n} } |y\\rangle_n \\\\\n",
    "\\end{align*}\n",
    "$$"
   ]
  },
  {
   "attachments": {},
   "cell_type": "markdown",
   "metadata": {},
   "source": [
    "Probability $p(y)$ of getting $|y\\rangle$,\n",
    "\n",
    "while\n",
    "$$\n",
    "\\bigg|e^{ \\frac{2\\pi i x_0 y}{2^n} }\\bigg| = 1 \n",
    "$$\n",
    "\n",
    "then\n",
    "$$\n",
    "p(y) = \\frac{1}{2^n m} \\Bigg| \\sum_{k=0}^{m-1} e^{ \\frac{2\\pi i kry}{2^n} } \\Bigg|^2  \n",
    "$$\n"
   ]
  },
  {
   "attachments": {},
   "cell_type": "markdown",
   "metadata": {},
   "source": [
    "Observe that $e^{ \\frac{2\\pi i kry}{2^n} }$ is a unit vector points to direction $\\frac{2\\pi kry}{2^n}$.  \n",
    "\n",
    "If $\\frac{ry}{2^n}$ is an integer (or very close to an integer), $e^{ \\frac{2\\pi i kry}{2^n} }$ is 1 for $k \\in [0, m-1]$.  Then, \n",
    "\n",
    "$$\n",
    "p(y) \\approx \\frac{m}{2^n}\n",
    "$$\n",
    "\n",
    "Intuitively, if $\\frac{ry}{2^n}$ is away from integer, $e^{ \\frac{2\\pi i kry}{2^n} }$ point to various directions for $k \\in [0, m-1]$.  Then, the summation terms over $k$ cancel each others and \n",
    "\n",
    "$$\n",
    "p(y) \\approx 0\n",
    "$$\n",
    "\n",
    "For detail analysis, refer section 3.7, QCS."
   ]
  },
  {
   "attachments": {},
   "cell_type": "markdown",
   "metadata": {},
   "source": [
    "For $\\frac{ry}{2^n} \\approx j, \\, j \\in \\N$ and $0 <= y < 2^n$, there are $r$ possible values of $y$\n",
    "\n",
    "$$\n",
    "0 <= y \\approx \\frac{2^n j}{r} < N \\; \\text{where} \\; j \\in [0, r-1]\n",
    "$$\n"
   ]
  },
  {
   "attachments": {},
   "cell_type": "markdown",
   "metadata": {},
   "source": [
    "Note that $mr \\approx 2^n$, this imples high probability of measuring $|y\\rangle$ "
   ]
  },
  {
   "attachments": {},
   "cell_type": "markdown",
   "metadata": {},
   "source": [
    "With the measured $y$, find the rational number $j/r$ closest to $y/2^n$ and $r < N$.  Then, $r$ is known.  There is a catch that if the actual period $r$ has common factor with $j$, the found denominator is not the actual period.  In this case, rerun the quantum circuit or rerun Shor's algorithm with another $a$.\n",
    "\n",
    "Given $x=y/2^n$, use continued fractions to find $j/r$ by repeating the steps until $r$ is just smaller than $N$.\n",
    "\n",
    "$$\n",
    "\\begin{align*}\n",
    "x &= \\frac{1}{\\frac{1}{x}} \\\\\n",
    "  &= \\frac{1}{int(\\frac{1}{x}) + fractional(\\frac{1}{x})} \\\\\n",
    "\\end{align*}\n",
    "$$\n"
   ]
  },
  {
   "attachments": {},
   "cell_type": "markdown",
   "metadata": {},
   "source": [
    "Repeat for the process to $fractional(\\frac{1}{x})$ until find a rational number with denominator is just smaller than $N$.\n",
    "\n",
    "$$\n",
    "\\begin{align*}\n",
    "x &= \\frac{1}{a_0 + \\frac{1}{ a_1 + \\frac{1}{ a_2 + \\cdots }}} \\\\\n",
    "\\end{align*}\n",
    "$$"
   ]
  }
 ],
 "metadata": {
  "language_info": {
   "name": "python"
  },
  "orig_nbformat": 4
 },
 "nbformat": 4,
 "nbformat_minor": 2
}
