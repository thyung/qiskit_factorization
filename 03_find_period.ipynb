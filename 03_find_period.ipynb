{
 "cells": [
  {
   "attachments": {},
   "cell_type": "markdown",
   "metadata": {},
   "source": [
    "## Show the circuit finding period of $f_{a,N}$"
   ]
  },
  {
   "attachments": {},
   "cell_type": "markdown",
   "metadata": {},
   "source": [
    "![shor alg circuit](./images/shor_alg_circuit1.png)"
   ]
  },
  {
   "attachments": {},
   "cell_type": "markdown",
   "metadata": {},
   "source": [
    "Definition of $U_{QFT}$,\n",
    "\n",
    "$$\n",
    "U_{QFT} |x\\rangle_n= \\frac{1}{2^{n/2}} \\sum_{y=0}^{2^n-1} e^{ \\frac{2\\pi i xy}{2^n} } |y\\rangle_n \\\\\n",
    "$$\n"
   ]
  },
  {
   "attachments": {},
   "cell_type": "markdown",
   "metadata": {},
   "source": [
    "\n",
    "Let $x \\in [0, 2^n)$ and $N$ within $2^{n_0}$ (as p70, N. David Mermin)"
   ]
  },
  {
   "attachments": {},
   "cell_type": "markdown",
   "metadata": {},
   "source": [
    "Define unitary operator $U_{f_{a,N}}$,\n",
    "\n",
    "$$\n",
    "U_{f_{a,N}} |x\\rangle_n |0\\rangle_{n_0} = |x\\rangle_n | f_{a,N}(x) \\rangle_{n_0}\n",
    "$$"
   ]
  },
  {
   "attachments": {},
   "cell_type": "markdown",
   "metadata": {},
   "source": [
    "The first 2 operations of the circuit,\n",
    "\n",
    "$$\n",
    "\\begin{align*}\n",
    "U_{f_N} H^{\\otimes n} |x\\rangle_n |0\\rangle_{n_0} &= U_{f_N} \\frac{1}{2^{n/2}} \\sum_{x=0}^{2^n-1} |x\\rangle_n |0\\rangle_{n_0} \\\\\n",
    "&= \\frac{1}{2^{n/2}} \\sum_{x=0}^{2^n-1} |x\\rangle_n | f_N(x) \\rangle_{n_0}\n",
    "\\end{align*}\n",
    "$$"
   ]
  },
  {
   "attachments": {},
   "cell_type": "markdown",
   "metadata": {},
   "source": [
    "If the measurement of the $n_0$ qubits result $f_0$, the state becomes\n",
    "\n",
    "$$\n",
    "|\\Psi \\rangle_n | f_0 \\rangle_{n_0} = \\frac{1}{\\sqrt{m}} \\sum_{k=0}^{m-1} | x_0 + kr \\rangle_n | f_0 \\rangle_{n_0}\n",
    "$$\n",
    "\n",
    "where $x_0$ is the smallest number such that $f_{a,N}(x_0) = f_0$ and $0 <= x_0 < r$ and $m$ is the smallest number such that $x_0 + mr >= 2^n$.  That means all $| x_0 + kr \\rangle_n , k \\in [0, m-1]$ are between $|0\\rangle_n$ and $| 2^n-1 \\rangle_n$."
   ]
  },
  {
   "attachments": {},
   "cell_type": "markdown",
   "metadata": {},
   "source": [
    "Apply QFT to $|\\Psi \\rangle_n$\n",
    "\n",
    "$$\n",
    "\\begin{align*}\n",
    "U_{QFT} |\\Psi \\rangle_n &= U_{QFT} \\frac{1}{\\sqrt{m}} \\sum_{k=0}^{m-1} | x_0 + kr \\rangle_n \\\\\n",
    "&= \\frac{1}{\\sqrt{m}} \\sum_{k=0}^{m-1} \\frac{1}{2^{n/2}} \\sum_{y=0}^{2^n-1} e^{ \\frac{2\\pi i (x_0+kr)y}{2^n} } |y\\rangle_n \\\\\n",
    "\\end{align*}\n",
    "$$"
   ]
  },
  {
   "attachments": {},
   "cell_type": "markdown",
   "metadata": {},
   "source": [
    "Exchange summations order and take $x_0$ term out of summation over k,\n",
    "\n",
    "$$\n",
    "\\begin{align*}\n",
    "&= \\sum_{y=0}^{2^n-1} e^{ \\frac{2\\pi i x_0 y}{2^n} } \\frac{1}{\\sqrt{2^n m}} \\sum_{k=0}^{m-1} e^{ \\frac{2\\pi i kry}{2^n} } |y\\rangle_n \\\\\n",
    "\\end{align*}\n",
    "$$"
   ]
  },
  {
   "attachments": {},
   "cell_type": "markdown",
   "metadata": {},
   "source": [
    "Probability $p(y)$ of getting $|y\\rangle$,\n",
    "\n",
    "$$\n",
    "p(y) = \\Bigg|e^{ \\frac{2\\pi i x_0 y}{2^n} } \\frac{1}{\\sqrt{2^n m}} \\sum_{k=0}^{m-1} e^{ \\frac{2\\pi i kry}{2^n} } \\Bigg|^2\n",
    "$$\n",
    "\n",
    "While\n",
    "$$\n",
    "\\bigg|e^{ \\frac{2\\pi i x_0 y}{2^n} }\\bigg| = 1 \n",
    "$$\n",
    "\n",
    "therefore\n",
    "$$\n",
    "p(y) = \\frac{1}{2^n m} \\Bigg| \\sum_{k=0}^{m-1} e^{ \\frac{2\\pi i kry}{2^n} } \\Bigg|^2  \n",
    "$$\n"
   ]
  },
  {
   "attachments": {},
   "cell_type": "markdown",
   "metadata": {},
   "source": [
    "Observe that $e^{ \\frac{2\\pi i kry}{2^n} }$ is a unit vector points to direction $\\frac{2\\pi kry}{2^n}$.  \n",
    "\n",
    "If $\\frac{ry}{2^n}$ is an integer (or very close to an integer), $e^{ \\frac{2\\pi i kry}{2^n} }$ is approximately 1 for $k \\in [0, m-1]$.  Then, \n",
    "\n",
    "$$\n",
    "p(y) \\approx \\frac{m}{2^n}\n",
    "$$\n",
    "\n",
    "Intuitively, if $\\frac{ry}{2^n}$ is away from integer, $e^{ \\frac{2\\pi i kry}{2^n} }$ point to various directions for $k \\in [0, m-1]$.  Then, the summation terms over $k$ cancel each others and \n",
    "\n",
    "$$\n",
    "p(y) \\approx 0\n",
    "$$\n",
    "\n",
    "For detail analysis, refer section 3.7, N. David Mermin."
   ]
  },
  {
   "attachments": {},
   "cell_type": "markdown",
   "metadata": {},
   "source": [
    "For $\\frac{ry}{2^n} \\approx j, \\, j \\in \\mathbb{N}$ and $0 <= y < 2^n$, there are $r$ possible values of $y$\n",
    "\n",
    "$$\n",
    "0 <= y \\approx \\frac{2^n j}{r} < N \\; \\text{where} \\; j \\in [0, r-1]\n",
    "$$\n"
   ]
  },
  {
   "attachments": {},
   "cell_type": "markdown",
   "metadata": {},
   "source": [
    "Note that $mr \\approx 2^n$, this imples high probability of measuring $y$ of the form $\\frac{2^n j}{r}$."
   ]
  },
  {
   "attachments": {},
   "cell_type": "markdown",
   "metadata": {},
   "source": [
    "With the measured $y$, find the rational number $j/r$ closest to $y/2^n$ and $r < N$.  Then, $r$ is denominator of the rational number.  There is a catch that if the actual period $r$ has common factor with $j$, the found denominator is not the actual period.  In this case, rerun the quantum circuit or rerun Shor's algorithm with another $a$.\n",
    "\n",
    "Given $x=y/2^n$, use continued fractions to find $j/r$ by repeating the steps until $r$ is just smaller than $N$.\n",
    "\n",
    "$$\n",
    "\\begin{align*}\n",
    "x &= \\frac{1}{\\frac{1}{x}} \\\\\n",
    "  &= \\frac{1}{int(\\frac{1}{x}) + fractional(\\frac{1}{x})} \\\\\n",
    "\\end{align*}\n",
    "$$\n"
   ]
  },
  {
   "attachments": {},
   "cell_type": "markdown",
   "metadata": {},
   "source": [
    "Repeat for the process to $fractional(\\frac{1}{x})$ until find a rational number with denominator is just smaller than $N$.\n",
    "\n",
    "$$\n",
    "\\begin{align*}\n",
    "x &= \\frac{1}{a_0 + \\frac{1}{ a_1 + \\frac{1}{ a_2 + \\cdots }}} \\\\\n",
    "\\end{align*}\n",
    "$$"
   ]
  },
  {
   "attachments": {},
   "cell_type": "markdown",
   "metadata": {},
   "source": [
    "Continued fractions example,\n",
    "\n",
    "$$\n",
    "\\begin{align*}\n",
    "0.375 &= \\frac{1}{\\frac{1}{0.375}}                          \\\\\n",
    "      &= \\frac{1}{2 + 0.\\dot 6}                             \\\\\n",
    "      &= \\frac{1}{2 + \\frac{1}{\\frac{1}{0.\\dot 6}}}         \\\\\n",
    "      &= \\frac{1}{2 + \\frac{1}{1 + 0.5}}          \\\\\n",
    "      &= \\frac{1}{2 + \\frac{1}{1 + \\frac{1}{2}}}  \\\\\n",
    "      &= \\frac{3}{8}\n",
    "\\end{align*}\n",
    "$$\n"
   ]
  },
  {
   "attachments": {},
   "cell_type": "markdown",
   "metadata": {},
   "source": [
    "In this algorithm, either QFT or QFT<sup>-1</sup> in the last stage can give the period $r$.\n",
    "\n",
    "This is easier to visualize in matrix form.  Let \n",
    "\n",
    "$$\n",
    "\\begin{align*}\n",
    "N &= 2^n \\; \\text{ this is not about } N=pq \\\\\n",
    "\\omega &= e^{\\frac{2\\pi i}{N}} \\\\\n",
    "\\omega^{kN} &= 1 \\; \\text{ for } k \\in \\mathbb{N}\n",
    "\\end{align*}\n",
    "$$\n"
   ]
  },
  {
   "attachments": {},
   "cell_type": "markdown",
   "metadata": {},
   "source": [
    "$$\n",
    "\\begin{align*}\n",
    "\n",
    "\\operatorname{QFT} \\operatorname{QFT} &= \n",
    "\\frac{1}{\\sqrt{N}}\n",
    "\\begin{pmatrix}\n",
    "1      & 1            & 1               & 1               & \\cdots & 1                   \\\\\n",
    "1      & \\omega       & \\omega^2        & \\omega^3        & \\cdots & \\omega^{N-1}        \\\\\n",
    "1      & \\omega^2     & \\omega^4        & \\omega^6        & \\cdots & \\omega^{2(N-1)}     \\\\\n",
    "\\vdots & \\vdots       & \\vdots          & \\vdots          & \\ddots & \\vdots              \\\\\n",
    "1      & \\omega^{N-1} & \\omega^{2(N-1)} & \\omega^{3(N-1)} & \\cdots & \\omega^{(N-1)(N-1)} \\\\\n",
    "\\end{pmatrix}\n",
    "\\frac{1}{\\sqrt{N}}\n",
    "\\begin{pmatrix}\n",
    "1      & 1            & 1               & 1               & \\cdots & 1                   \\\\\n",
    "1      & \\omega       & \\omega^2        & \\omega^3        & \\cdots & \\omega^{N-1}        \\\\\n",
    "1      & \\omega^2     & \\omega^4        & \\omega^6        & \\cdots & \\omega^{2(N-1)}     \\\\\n",
    "\\vdots & \\vdots       & \\vdots          & \\vdots          & \\ddots & \\vdots              \\\\\n",
    "1            & \\omega^{N-1} & \\omega^{2(N-1)} & \\omega^{3(N-1)} & \\cdots & \\omega^{(N-1)(N-1)} \\\\\n",
    "\n",
    "\\end{pmatrix}\n",
    "\\\\\n",
    "\n",
    "&= \n",
    "\\frac{1}{N}\n",
    "\\begin{pmatrix}\n",
    "N                           & \\frac{1-\\omega^N}{1-\\omega} & \\frac{1-\\omega^{2N}}{1-\\omega^2} & \\frac{1-\\omega^{3N}}{1-\\omega^3} & \\cdots &  \\cdots & \\frac{1-\\omega^{(N-1)N}}{1-\\omega^{N-1}}   \\\\\n",
    "\n",
    "\\frac{1-\\omega^N}{1-\\omega} & \\frac{1-\\omega^{2N}}{1-\\omega^2} & \\frac{1-\\omega^{3N}}{1-\\omega^3} & \\frac{1-\\omega^{4N}}{1-\\omega^4} & \\cdots & \\cdots & 1 + \\omega^N + \\omega^{2N} \\cdots \\omega^{(N-1)N}   \\\\\n",
    "\n",
    "\\frac{1-\\omega^{2N}}{1-\\omega^2} & \\frac{1-\\omega^{3N}}{1-\\omega^3} & \\frac{1-\\omega^{4N}}{1-\\omega^4} & \\frac{1-\\omega^{5N}}{1-\\omega^5} & \\cdots & 1 + \\omega^N + \\omega^{2N} \\cdots \\omega^{(N-1)N} & 1 + \\omega^{N+1} + \\omega^{2(N+1)} \\cdots \\omega^{(N-1)(N+1)}  \\\\\n",
    "\n",
    "\\vdots & \\vdots       & \\vdots          & \\vdots          & \\ddots & \\vdots & \\vdots             \\\\\n",
    "\n",
    "\\frac{1-\\omega^{(N-1)N}}{1-\\omega^{N-1}} & 1 + \\omega^N + \\omega^{2N} \\cdots \\omega^{(N-1)N} & \\cdots & \\cdots & \\cdots & \\cdots & \\cdots \n",
    "\n",
    "\\end{pmatrix}\n",
    "\\\\\n",
    "\n",
    "&= \n",
    "\\frac{1}{N}\n",
    "\\begin{pmatrix}\n",
    "N      & 0      & 0      & 0      & \\cdots & \\cdots & 0         \\\\\n",
    "0      & 0      & 0      & 0      & \\cdots & \\cdots & N         \\\\\n",
    "0      & 0      & 0      & 0      & \\cdots & N      & 0         \\\\\n",
    "\\vdots & \\vdots & \\vdots & \\vdots & \\ddots & \\vdots & \\vdots    \\\\\n",
    "0      & N      & 0      & 0      & \\cdots & \\cdots & 0 \n",
    "\\end{pmatrix}\n",
    "\\\\\n",
    "\n",
    "&= \n",
    "\\begin{pmatrix}\n",
    "1      & 0      & 0      & 0      & \\cdots & \\cdots & 0         \\\\\n",
    "0      & 0      & 0      & 0      & \\cdots & \\cdots & 1         \\\\\n",
    "0      & 0      & 0      & 0      & \\cdots & 1      & 0         \\\\\n",
    "\\vdots & \\vdots & \\vdots & \\vdots & \\ddots & \\vdots & \\vdots    \\\\\n",
    "0      & 1      & 0      & 0      & \\cdots & \\cdots & 0 \n",
    "\\end{pmatrix}\n",
    "\n",
    "\n",
    "\\end{align*}\n",
    "$$"
   ]
  },
  {
   "attachments": {},
   "cell_type": "markdown",
   "metadata": {},
   "source": [
    "That effectively maps column vector with 1 in x th position to N-x th position.  This is the same way as representing negative number in 2's complement. \n",
    "\n",
    "$$\n",
    "\\begin{align*}\n",
    "\\operatorname{QFT} \\operatorname{QFT} |x\\rangle &= |2^n - x \\rangle     \\\\\n",
    "\\operatorname{QFT}^{-1} \\operatorname{QFT} \\operatorname{QFT} |x\\rangle &= \\operatorname{QFT}^{-1} |2^n - x \\rangle     \\\\\n",
    "\\operatorname{QFT} |x\\rangle &= \\operatorname{QFT}^{-1} |2^n - x\\rangle     \\\\\n",
    "\\operatorname{QFT} |2^n - y\\rangle &= \\operatorname{QFT}^{-1} |y\\rangle     \\\\\n",
    "\n",
    "\\end{align*}\n",
    "$$\n",
    "\n",
    "Both QFT and QFT<sup>-1</sup> extract the periodic information from $|x\\rangle$."
   ]
  }
 ],
 "metadata": {
  "language_info": {
   "name": "python"
  },
  "orig_nbformat": 4
 },
 "nbformat": 4,
 "nbformat_minor": 2
}
