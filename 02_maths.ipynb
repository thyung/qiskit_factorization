{
 "cells": [
  {
   "attachments": {},
   "cell_type": "markdown",
   "metadata": {},
   "source": [
    "## Step 2\n",
    "The algorithm claims the existence of $r$ for which $a^r\\equiv 1 \\mod N$.  The prove is described below.\n"
   ]
  },
  {
   "attachments": {},
   "cell_type": "markdown",
   "metadata": {},
   "source": [
    "Define $f_{a,N}(i) = a^i \\mod N$.  The possible values of $f_{a,N}(i)$ are $[1, N-1]$.  Note that it cannot be 0 because $a$ and $N$ are coprime.\n"
   ]
  },
  {
   "attachments": {},
   "cell_type": "markdown",
   "metadata": {},
   "source": [
    "### Case 1: \n",
    "\n",
    "For $i \\in [1, N-1]$, $f_{a,N}$ is subjective to $[1, N-1]$.\n",
    "\n",
    "Then, $\\exists r \\in [1, N-1]$, $f_{a,N}(r)=1 \\Rightarrow a^r \\equiv 1 \\mod N$\n"
   ]
  },
  {
   "attachments": {},
   "cell_type": "markdown",
   "metadata": {},
   "source": [
    "### Case 2: \n",
    "\n",
    "$\\exists i, j \\in [1, N-1]$ and $i \\not= j$, $f_{a,N}(i) = f_{a,N}(j)$.\n",
    "\n",
    "Assume $i<j$, then, $\\exists c \\in [1, N-1]$ and $k_i, k_j \\in \\mathbb{N}$,\n",
    "\n",
    "$$\n",
    "\\begin{align*}\n",
    "x^i &= k_i N + c \\\\\n",
    "x^j &= k_j N + c \\\\\n",
    "\n",
    "x^j - x^i &= (k_j - k_i)N \\\\\n",
    "x^i (x^{j-i} - 1) &= (k_j - k_i)N \\\\\n",
    "\\Rightarrow x^{j-i} - 1 &\\equiv 0 \\mod N \\\\\n",
    "\\Rightarrow x^r &\\equiv 1 \\mod N , r=j-i \\in [1, N-1]\n",
    "\\end{align*}\n",
    "$$"
   ]
  },
  {
   "attachments": {},
   "cell_type": "markdown",
   "metadata": {},
   "source": [
    "Additionally, $f_{a,N}$ is periodic with period $r$.\n",
    "\n",
    "$$\n",
    "\\begin{align*}\n",
    "f_{a,N}(r+s) &= x^{r+s} \\mod N \\\\\n",
    "         &= x^r x^s \\mod N \\\\\n",
    "         &= (kN + 1 ) x^s \\mod N \\; \\exists k \\in \\mathbb{N} \\\\\n",
    "         &= x^s \\mod N \\\\\n",
    "         &= f_{a,N}(s)\n",
    "\\end{align*}\n",
    "$$"
   ]
  },
  {
   "attachments": {},
   "cell_type": "markdown",
   "metadata": {},
   "source": [
    "## Step 3 \n",
    "\n",
    "If $r$ is odd, pick another $a$ and rerun the algorithm.  (Question: would there be case $r$ is always or very high probability an odd number?  Need further analysis.)\n",
    "\n",
    "If $r$ is even, rewrite $a^r \\equiv 1 \\,mod\\, N$ below,"
   ]
  },
  {
   "attachments": {},
   "cell_type": "markdown",
   "metadata": {},
   "source": [
    "$$\n",
    "\\begin{align*}\n",
    "a^r - 1 &\\equiv 0 \\mod N \\\\\n",
    "\\Rightarrow (a^{r/2} + 1)(a^{r/2} - 1) &\\equiv 0 \\mod N \\tag{1}  \\\\\n",
    "\\end{align*}\n",
    "$$"
   ]
  },
  {
   "attachments": {},
   "cell_type": "markdown",
   "metadata": {},
   "source": [
    "While $r$ is the smallest number such that $a^r - 1 \\equiv 0 \\mod N$, $a^{r/2} - 1 \\not\\equiv 0 \\mod N$ \n",
    "\n",
    "If $a^{r/2} + 1 \\not\\equiv 0 \\mod N$, then each term on the LHS of equation (1) has a factor of $N$."
   ]
  },
  {
   "attachments": {},
   "cell_type": "markdown",
   "metadata": {},
   "source": [
    "BTW, if $a^{r/2} + 1 \\equiv 0 \\mod N$, i.e. $a^{r/2} + 1$ is multiple of $N$, then both $a^{r/2} + 1$ and $a^{r/2} - 1$ do not provide any information of the factor of $N$.  One needs to pick another $a$ and start over the algorithm."
   ]
  }
 ],
 "metadata": {
  "language_info": {
   "name": "python"
  },
  "orig_nbformat": 4
 },
 "nbformat": 4,
 "nbformat_minor": 2
}
